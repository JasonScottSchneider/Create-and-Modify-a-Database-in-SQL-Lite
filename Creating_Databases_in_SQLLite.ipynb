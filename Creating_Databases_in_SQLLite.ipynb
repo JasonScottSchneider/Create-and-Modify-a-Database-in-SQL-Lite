{
 "cells": [
  {
   "cell_type": "markdown",
   "id": "nearby-trademark",
   "metadata": {},
   "source": [
    "## Create and Modify a Database in SQL Lite"
   ]
  },
  {
   "cell_type": "code",
   "execution_count": 1,
   "id": "virgin-abraham",
   "metadata": {},
   "outputs": [],
   "source": [
    "import sqlite3\n",
    "conn = sqlite3.connect('music.sqlite')\n",
    "cur = conn.cursor()\n",
    "cur.execute('DROP TABLE IF EXISTS Tracks')\n",
    "cur.execute('CREATE TABLE Tracks (title TEXT, plays INTEGER)')\n",
    "conn.commit()"
   ]
  },
  {
   "cell_type": "code",
   "execution_count": 2,
   "id": "considerable-glory",
   "metadata": {},
   "outputs": [
    {
     "name": "stdout",
     "output_type": "stream",
     "text": [
      "Tracks:\n",
      "('Thunderstruck', 20)\n",
      "('My Way', 15)\n"
     ]
    }
   ],
   "source": [
    "cur.execute('INSERT INTO Tracks (title, plays) VALUES (?, ?)',\n",
    "('Thunderstruck', 20))\n",
    "cur.execute('INSERT INTO Tracks (title, plays) VALUES (?, ?)',\n",
    "('My Way', 15))\n",
    "conn.commit()\n",
    "print('Tracks:')\n",
    "cur.execute('SELECT title, plays FROM Tracks')\n",
    "for row in cur:\n",
    "    print(row)"
   ]
  },
  {
   "cell_type": "code",
   "execution_count": 3,
   "id": "measured-burden",
   "metadata": {},
   "outputs": [
    {
     "name": "stdout",
     "output_type": "stream",
     "text": [
      "Tracks:\n",
      "('Thunderstruck', 20)\n",
      "('My Way', 15)\n",
      "('Voodoo Child', 16)\n"
     ]
    }
   ],
   "source": [
    "cur.execute('INSERT INTO Tracks (title, plays) VALUES  (?, ?)',\n",
    "('Voodoo Child', 16))\n",
    "conn.commit()\n",
    "print('Tracks:')\n",
    "cur.execute('SELECT title, plays FROM Tracks')\n",
    "for row in cur:\n",
    "    print(row)"
   ]
  },
  {
   "cell_type": "code",
   "execution_count": 4,
   "id": "previous-specific",
   "metadata": {},
   "outputs": [],
   "source": [
    "cur.execute('UPDATE Tracks SET title = \"Zombie\" WHERE plays = 15')\n",
    "conn.commit()"
   ]
  },
  {
   "cell_type": "code",
   "execution_count": 5,
   "id": "trying-freeze",
   "metadata": {},
   "outputs": [
    {
     "name": "stdout",
     "output_type": "stream",
     "text": [
      "Tracks:\n",
      "('Thunderstruck', 20)\n",
      "('Zombie', 15)\n",
      "('Voodoo Child', 16)\n"
     ]
    }
   ],
   "source": [
    "print('Tracks:')\n",
    "cur.execute('SELECT title, plays FROM Tracks')\n",
    "for row in cur:\n",
    "    print(row)"
   ]
  },
  {
   "cell_type": "code",
   "execution_count": 6,
   "id": "equivalent-active",
   "metadata": {},
   "outputs": [],
   "source": [
    "cur.execute('DELETE FROM Tracks WHERE title = \"Voodoo Child\"')\n",
    "conn.commit()"
   ]
  },
  {
   "cell_type": "code",
   "execution_count": 7,
   "id": "roman-commodity",
   "metadata": {},
   "outputs": [
    {
     "name": "stdout",
     "output_type": "stream",
     "text": [
      "Tracks:\n",
      "('Thunderstruck', 20)\n",
      "('Zombie', 15)\n"
     ]
    }
   ],
   "source": [
    "print('Tracks:')\n",
    "cur.execute('SELECT title, plays FROM Tracks')\n",
    "for row in cur:\n",
    "    print(row)"
   ]
  },
  {
   "cell_type": "code",
   "execution_count": 8,
   "id": "exterior-marks",
   "metadata": {},
   "outputs": [],
   "source": [
    "cur.execute('INSERT INTO Tracks (title, plays) VALUES  (?, ?)',\n",
    "('Royal Oil', 16))\n",
    "conn.commit()"
   ]
  },
  {
   "cell_type": "code",
   "execution_count": 9,
   "id": "dietary-reply",
   "metadata": {},
   "outputs": [
    {
     "name": "stdout",
     "output_type": "stream",
     "text": [
      "Tracks:\n",
      "('Thunderstruck', 20)\n",
      "('Zombie', 15)\n",
      "('Royal Oil', 16)\n"
     ]
    }
   ],
   "source": [
    "print('Tracks:')\n",
    "cur.execute('SELECT title, plays FROM Tracks')\n",
    "for row in cur:\n",
    "    print(row)"
   ]
  },
  {
   "cell_type": "code",
   "execution_count": 10,
   "id": "supported-performance",
   "metadata": {},
   "outputs": [],
   "source": [
    "cur.execute('DELETE FROM Tracks WHERE plays < 100')\n",
    "cur.close()"
   ]
  }
 ],
 "metadata": {
  "kernelspec": {
   "display_name": "Python 3",
   "language": "python",
   "name": "python3"
  },
  "language_info": {
   "codemirror_mode": {
    "name": "ipython",
    "version": 3
   },
   "file_extension": ".py",
   "mimetype": "text/x-python",
   "name": "python",
   "nbconvert_exporter": "python",
   "pygments_lexer": "ipython3",
   "version": "3.9.2"
  }
 },
 "nbformat": 4,
 "nbformat_minor": 5
}
